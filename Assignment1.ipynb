{
  "cells": [
    {
      "cell_type": "markdown",
      "metadata": {
        "id": "view-in-github",
        "colab_type": "text"
      },
      "source": [
        "<a href=\"https://colab.research.google.com/github/3ABQARINO/Complete-Python-3-Bootcamp/blob/master/Assignment1.ipynb\" target=\"_parent\"><img src=\"https://colab.research.google.com/assets/colab-badge.svg\" alt=\"Open In Colab\"/></a>"
      ]
    },
    {
      "cell_type": "markdown",
      "source": [
        "<div class=\"alert alert-danger\" role=\"alert\">\n",
        "  Note: <br>\n",
        "    1. Only modify the area marked by \"YOUR CODE STARTS HERE\" and \"YOUR CODE ENDS HERE\" markers<br>\n",
        "    2. If you are working locally, the data files should be in the same directory as your Assignment1.ipynb Notebook.<br>\n",
        "</div>"
      ],
      "metadata": {
        "id": "XLQASYwGy_33"
      }
    },
    {
      "cell_type": "markdown",
      "metadata": {
        "id": "uf8zksoawaHq"
      },
      "source": [
        "## Assignment 1: Customer's Shopping Data\n",
        "\n",
        "The goal of this assignment is to develop machine learning models that can predict the spending behavior of customers in a shop based on their characteristics. This prediction can help the shop in targeting its customers with customized strategies based on their spending behaviors, thus increasing its profits. Towards this goal, you should load the customer’s dataset attached to this assignment, develop linear and logistic regression models for spending predictions, and finally evaluate the performance of your trained models on test data.\n",
        "\n",
        "*Note: Please include comments to your code so it can be easily followed and understood.*"
      ]
    },
    {
      "cell_type": "markdown",
      "metadata": {
        "id": "oxFKBF_4xByj"
      },
      "source": [
        "### Loading the Data\n",
        "\n",
        "The customer’s shopping dataset is split into training and testing data.  The training data will be used to build the linear and logistic regression models, and the test data will be used to evaluate their performance in customer’s spending predictions.\n"
      ]
    },
    {
      "cell_type": "markdown",
      "metadata": {
        "id": "E7PmButs0TOj"
      },
      "source": [
        "Importing the necessary python libraries to load the data."
      ]
    },
    {
      "cell_type": "code",
      "execution_count": 6,
      "metadata": {
        "id": "tg2D2bbw0c5c"
      },
      "outputs": [],
      "source": [
        "#import libraries\n",
        "import pandas as pd\n",
        "#import libraries\n",
        "import sklearn\n",
        "from sklearn.linear_model import LinearRegression\n",
        "from sklearn.metrics import mean_squared_error\n",
        "#import libraries\n",
        "from sklearn.linear_model import LogisticRegression\n",
        "from sklearn.metrics import accuracy_score"
      ]
    },
    {
      "cell_type": "code",
      "execution_count": 7,
      "metadata": {
        "id": "9s0DbkyuxivW"
      },
      "outputs": [],
      "source": [
        "#Load the train_data.csv file in python, and assign it to a variable named \"train\".\n",
        "##### YOUR CODE STARTS HERE #####\n",
        "train = pd.read_csv(\"train_data.csv\")\n",
        "##### YOUR CODE ENDS HERE #####"
      ]
    },
    {
      "cell_type": "code",
      "source": [
        "from google.colab import drive\n",
        "drive.mount('/content/drive')"
      ],
      "metadata": {
        "colab": {
          "base_uri": "https://localhost:8080/"
        },
        "id": "_W6AmgGMd4_B",
        "outputId": "dce0a34d-fd21-4ddc-f09d-c1875dd202de"
      },
      "execution_count": 8,
      "outputs": [
        {
          "output_type": "stream",
          "name": "stdout",
          "text": [
            "Drive already mounted at /content/drive; to attempt to forcibly remount, call drive.mount(\"/content/drive\", force_remount=True).\n"
          ]
        }
      ]
    },
    {
      "cell_type": "code",
      "execution_count": 9,
      "metadata": {
        "id": "8e-9xhC4xxDp",
        "colab": {
          "base_uri": "https://localhost:8080/",
          "height": 424
        },
        "outputId": "2abc3100-cd2a-43e3-8bdc-4eb12ed1d496"
      },
      "outputs": [
        {
          "output_type": "execute_result",
          "data": {
            "text/plain": [
              "     Gender  Age  Annual Income     Profession  Work Experience  Family Size  \\\n",
              "0    Female   23          84000     Healthcare                1            3   \n",
              "1    Female   35          93000     Healthcare                4            4   \n",
              "2      Male   37          19000         Doctor                0            1   \n",
              "3      Male   20          89000     Healthcare                1            6   \n",
              "4      Male   52          20000  Entertainment                1            4   \n",
              "..      ...  ...            ...            ...              ...          ...   \n",
              "388  Female   41         128960      Executive                9            4   \n",
              "389  Female   62         149797         Artist                5            6   \n",
              "390    Male   94         181183      Marketing                9            3   \n",
              "391    Male   77         182109      Executive                7            2   \n",
              "392    Male   90         110610  Entertainment                5            2   \n",
              "\n",
              "     Spending Score Spending Category  \n",
              "0                94              High  \n",
              "1                99              High  \n",
              "2                13               Low  \n",
              "3                66              High  \n",
              "4                29               Low  \n",
              "..              ...               ...  \n",
              "388              43               Low  \n",
              "389              19               Low  \n",
              "390              24               Low  \n",
              "391               4               Low  \n",
              "392              52              High  \n",
              "\n",
              "[393 rows x 8 columns]"
            ],
            "text/html": [
              "\n",
              "  <div id=\"df-741cf0a6-514b-4349-b420-f429a51af84e\" class=\"colab-df-container\">\n",
              "    <div>\n",
              "<style scoped>\n",
              "    .dataframe tbody tr th:only-of-type {\n",
              "        vertical-align: middle;\n",
              "    }\n",
              "\n",
              "    .dataframe tbody tr th {\n",
              "        vertical-align: top;\n",
              "    }\n",
              "\n",
              "    .dataframe thead th {\n",
              "        text-align: right;\n",
              "    }\n",
              "</style>\n",
              "<table border=\"1\" class=\"dataframe\">\n",
              "  <thead>\n",
              "    <tr style=\"text-align: right;\">\n",
              "      <th></th>\n",
              "      <th>Gender</th>\n",
              "      <th>Age</th>\n",
              "      <th>Annual Income</th>\n",
              "      <th>Profession</th>\n",
              "      <th>Work Experience</th>\n",
              "      <th>Family Size</th>\n",
              "      <th>Spending Score</th>\n",
              "      <th>Spending Category</th>\n",
              "    </tr>\n",
              "  </thead>\n",
              "  <tbody>\n",
              "    <tr>\n",
              "      <th>0</th>\n",
              "      <td>Female</td>\n",
              "      <td>23</td>\n",
              "      <td>84000</td>\n",
              "      <td>Healthcare</td>\n",
              "      <td>1</td>\n",
              "      <td>3</td>\n",
              "      <td>94</td>\n",
              "      <td>High</td>\n",
              "    </tr>\n",
              "    <tr>\n",
              "      <th>1</th>\n",
              "      <td>Female</td>\n",
              "      <td>35</td>\n",
              "      <td>93000</td>\n",
              "      <td>Healthcare</td>\n",
              "      <td>4</td>\n",
              "      <td>4</td>\n",
              "      <td>99</td>\n",
              "      <td>High</td>\n",
              "    </tr>\n",
              "    <tr>\n",
              "      <th>2</th>\n",
              "      <td>Male</td>\n",
              "      <td>37</td>\n",
              "      <td>19000</td>\n",
              "      <td>Doctor</td>\n",
              "      <td>0</td>\n",
              "      <td>1</td>\n",
              "      <td>13</td>\n",
              "      <td>Low</td>\n",
              "    </tr>\n",
              "    <tr>\n",
              "      <th>3</th>\n",
              "      <td>Male</td>\n",
              "      <td>20</td>\n",
              "      <td>89000</td>\n",
              "      <td>Healthcare</td>\n",
              "      <td>1</td>\n",
              "      <td>6</td>\n",
              "      <td>66</td>\n",
              "      <td>High</td>\n",
              "    </tr>\n",
              "    <tr>\n",
              "      <th>4</th>\n",
              "      <td>Male</td>\n",
              "      <td>52</td>\n",
              "      <td>20000</td>\n",
              "      <td>Entertainment</td>\n",
              "      <td>1</td>\n",
              "      <td>4</td>\n",
              "      <td>29</td>\n",
              "      <td>Low</td>\n",
              "    </tr>\n",
              "    <tr>\n",
              "      <th>...</th>\n",
              "      <td>...</td>\n",
              "      <td>...</td>\n",
              "      <td>...</td>\n",
              "      <td>...</td>\n",
              "      <td>...</td>\n",
              "      <td>...</td>\n",
              "      <td>...</td>\n",
              "      <td>...</td>\n",
              "    </tr>\n",
              "    <tr>\n",
              "      <th>388</th>\n",
              "      <td>Female</td>\n",
              "      <td>41</td>\n",
              "      <td>128960</td>\n",
              "      <td>Executive</td>\n",
              "      <td>9</td>\n",
              "      <td>4</td>\n",
              "      <td>43</td>\n",
              "      <td>Low</td>\n",
              "    </tr>\n",
              "    <tr>\n",
              "      <th>389</th>\n",
              "      <td>Female</td>\n",
              "      <td>62</td>\n",
              "      <td>149797</td>\n",
              "      <td>Artist</td>\n",
              "      <td>5</td>\n",
              "      <td>6</td>\n",
              "      <td>19</td>\n",
              "      <td>Low</td>\n",
              "    </tr>\n",
              "    <tr>\n",
              "      <th>390</th>\n",
              "      <td>Male</td>\n",
              "      <td>94</td>\n",
              "      <td>181183</td>\n",
              "      <td>Marketing</td>\n",
              "      <td>9</td>\n",
              "      <td>3</td>\n",
              "      <td>24</td>\n",
              "      <td>Low</td>\n",
              "    </tr>\n",
              "    <tr>\n",
              "      <th>391</th>\n",
              "      <td>Male</td>\n",
              "      <td>77</td>\n",
              "      <td>182109</td>\n",
              "      <td>Executive</td>\n",
              "      <td>7</td>\n",
              "      <td>2</td>\n",
              "      <td>4</td>\n",
              "      <td>Low</td>\n",
              "    </tr>\n",
              "    <tr>\n",
              "      <th>392</th>\n",
              "      <td>Male</td>\n",
              "      <td>90</td>\n",
              "      <td>110610</td>\n",
              "      <td>Entertainment</td>\n",
              "      <td>5</td>\n",
              "      <td>2</td>\n",
              "      <td>52</td>\n",
              "      <td>High</td>\n",
              "    </tr>\n",
              "  </tbody>\n",
              "</table>\n",
              "<p>393 rows × 8 columns</p>\n",
              "</div>\n",
              "    <div class=\"colab-df-buttons\">\n",
              "\n",
              "  <div class=\"colab-df-container\">\n",
              "    <button class=\"colab-df-convert\" onclick=\"convertToInteractive('df-741cf0a6-514b-4349-b420-f429a51af84e')\"\n",
              "            title=\"Convert this dataframe to an interactive table.\"\n",
              "            style=\"display:none;\">\n",
              "\n",
              "  <svg xmlns=\"http://www.w3.org/2000/svg\" height=\"24px\" viewBox=\"0 -960 960 960\">\n",
              "    <path d=\"M120-120v-720h720v720H120Zm60-500h600v-160H180v160Zm220 220h160v-160H400v160Zm0 220h160v-160H400v160ZM180-400h160v-160H180v160Zm440 0h160v-160H620v160ZM180-180h160v-160H180v160Zm440 0h160v-160H620v160Z\"/>\n",
              "  </svg>\n",
              "    </button>\n",
              "\n",
              "  <style>\n",
              "    .colab-df-container {\n",
              "      display:flex;\n",
              "      gap: 12px;\n",
              "    }\n",
              "\n",
              "    .colab-df-convert {\n",
              "      background-color: #E8F0FE;\n",
              "      border: none;\n",
              "      border-radius: 50%;\n",
              "      cursor: pointer;\n",
              "      display: none;\n",
              "      fill: #1967D2;\n",
              "      height: 32px;\n",
              "      padding: 0 0 0 0;\n",
              "      width: 32px;\n",
              "    }\n",
              "\n",
              "    .colab-df-convert:hover {\n",
              "      background-color: #E2EBFA;\n",
              "      box-shadow: 0px 1px 2px rgba(60, 64, 67, 0.3), 0px 1px 3px 1px rgba(60, 64, 67, 0.15);\n",
              "      fill: #174EA6;\n",
              "    }\n",
              "\n",
              "    .colab-df-buttons div {\n",
              "      margin-bottom: 4px;\n",
              "    }\n",
              "\n",
              "    [theme=dark] .colab-df-convert {\n",
              "      background-color: #3B4455;\n",
              "      fill: #D2E3FC;\n",
              "    }\n",
              "\n",
              "    [theme=dark] .colab-df-convert:hover {\n",
              "      background-color: #434B5C;\n",
              "      box-shadow: 0px 1px 3px 1px rgba(0, 0, 0, 0.15);\n",
              "      filter: drop-shadow(0px 1px 2px rgba(0, 0, 0, 0.3));\n",
              "      fill: #FFFFFF;\n",
              "    }\n",
              "  </style>\n",
              "\n",
              "    <script>\n",
              "      const buttonEl =\n",
              "        document.querySelector('#df-741cf0a6-514b-4349-b420-f429a51af84e button.colab-df-convert');\n",
              "      buttonEl.style.display =\n",
              "        google.colab.kernel.accessAllowed ? 'block' : 'none';\n",
              "\n",
              "      async function convertToInteractive(key) {\n",
              "        const element = document.querySelector('#df-741cf0a6-514b-4349-b420-f429a51af84e');\n",
              "        const dataTable =\n",
              "          await google.colab.kernel.invokeFunction('convertToInteractive',\n",
              "                                                    [key], {});\n",
              "        if (!dataTable) return;\n",
              "\n",
              "        const docLinkHtml = 'Like what you see? Visit the ' +\n",
              "          '<a target=\"_blank\" href=https://colab.research.google.com/notebooks/data_table.ipynb>data table notebook</a>'\n",
              "          + ' to learn more about interactive tables.';\n",
              "        element.innerHTML = '';\n",
              "        dataTable['output_type'] = 'display_data';\n",
              "        await google.colab.output.renderOutput(dataTable, element);\n",
              "        const docLink = document.createElement('div');\n",
              "        docLink.innerHTML = docLinkHtml;\n",
              "        element.appendChild(docLink);\n",
              "      }\n",
              "    </script>\n",
              "  </div>\n",
              "\n",
              "\n",
              "<div id=\"df-b2e482ec-4ed4-4cf1-a7a1-b37ca9f2a7d4\">\n",
              "  <button class=\"colab-df-quickchart\" onclick=\"quickchart('df-b2e482ec-4ed4-4cf1-a7a1-b37ca9f2a7d4')\"\n",
              "            title=\"Suggest charts\"\n",
              "            style=\"display:none;\">\n",
              "\n",
              "<svg xmlns=\"http://www.w3.org/2000/svg\" height=\"24px\"viewBox=\"0 0 24 24\"\n",
              "     width=\"24px\">\n",
              "    <g>\n",
              "        <path d=\"M19 3H5c-1.1 0-2 .9-2 2v14c0 1.1.9 2 2 2h14c1.1 0 2-.9 2-2V5c0-1.1-.9-2-2-2zM9 17H7v-7h2v7zm4 0h-2V7h2v10zm4 0h-2v-4h2v4z\"/>\n",
              "    </g>\n",
              "</svg>\n",
              "  </button>\n",
              "\n",
              "<style>\n",
              "  .colab-df-quickchart {\n",
              "      --bg-color: #E8F0FE;\n",
              "      --fill-color: #1967D2;\n",
              "      --hover-bg-color: #E2EBFA;\n",
              "      --hover-fill-color: #174EA6;\n",
              "      --disabled-fill-color: #AAA;\n",
              "      --disabled-bg-color: #DDD;\n",
              "  }\n",
              "\n",
              "  [theme=dark] .colab-df-quickchart {\n",
              "      --bg-color: #3B4455;\n",
              "      --fill-color: #D2E3FC;\n",
              "      --hover-bg-color: #434B5C;\n",
              "      --hover-fill-color: #FFFFFF;\n",
              "      --disabled-bg-color: #3B4455;\n",
              "      --disabled-fill-color: #666;\n",
              "  }\n",
              "\n",
              "  .colab-df-quickchart {\n",
              "    background-color: var(--bg-color);\n",
              "    border: none;\n",
              "    border-radius: 50%;\n",
              "    cursor: pointer;\n",
              "    display: none;\n",
              "    fill: var(--fill-color);\n",
              "    height: 32px;\n",
              "    padding: 0;\n",
              "    width: 32px;\n",
              "  }\n",
              "\n",
              "  .colab-df-quickchart:hover {\n",
              "    background-color: var(--hover-bg-color);\n",
              "    box-shadow: 0 1px 2px rgba(60, 64, 67, 0.3), 0 1px 3px 1px rgba(60, 64, 67, 0.15);\n",
              "    fill: var(--button-hover-fill-color);\n",
              "  }\n",
              "\n",
              "  .colab-df-quickchart-complete:disabled,\n",
              "  .colab-df-quickchart-complete:disabled:hover {\n",
              "    background-color: var(--disabled-bg-color);\n",
              "    fill: var(--disabled-fill-color);\n",
              "    box-shadow: none;\n",
              "  }\n",
              "\n",
              "  .colab-df-spinner {\n",
              "    border: 2px solid var(--fill-color);\n",
              "    border-color: transparent;\n",
              "    border-bottom-color: var(--fill-color);\n",
              "    animation:\n",
              "      spin 1s steps(1) infinite;\n",
              "  }\n",
              "\n",
              "  @keyframes spin {\n",
              "    0% {\n",
              "      border-color: transparent;\n",
              "      border-bottom-color: var(--fill-color);\n",
              "      border-left-color: var(--fill-color);\n",
              "    }\n",
              "    20% {\n",
              "      border-color: transparent;\n",
              "      border-left-color: var(--fill-color);\n",
              "      border-top-color: var(--fill-color);\n",
              "    }\n",
              "    30% {\n",
              "      border-color: transparent;\n",
              "      border-left-color: var(--fill-color);\n",
              "      border-top-color: var(--fill-color);\n",
              "      border-right-color: var(--fill-color);\n",
              "    }\n",
              "    40% {\n",
              "      border-color: transparent;\n",
              "      border-right-color: var(--fill-color);\n",
              "      border-top-color: var(--fill-color);\n",
              "    }\n",
              "    60% {\n",
              "      border-color: transparent;\n",
              "      border-right-color: var(--fill-color);\n",
              "    }\n",
              "    80% {\n",
              "      border-color: transparent;\n",
              "      border-right-color: var(--fill-color);\n",
              "      border-bottom-color: var(--fill-color);\n",
              "    }\n",
              "    90% {\n",
              "      border-color: transparent;\n",
              "      border-bottom-color: var(--fill-color);\n",
              "    }\n",
              "  }\n",
              "</style>\n",
              "\n",
              "  <script>\n",
              "    async function quickchart(key) {\n",
              "      const quickchartButtonEl =\n",
              "        document.querySelector('#' + key + ' button');\n",
              "      quickchartButtonEl.disabled = true;  // To prevent multiple clicks.\n",
              "      quickchartButtonEl.classList.add('colab-df-spinner');\n",
              "      try {\n",
              "        const charts = await google.colab.kernel.invokeFunction(\n",
              "            'suggestCharts', [key], {});\n",
              "      } catch (error) {\n",
              "        console.error('Error during call to suggestCharts:', error);\n",
              "      }\n",
              "      quickchartButtonEl.classList.remove('colab-df-spinner');\n",
              "      quickchartButtonEl.classList.add('colab-df-quickchart-complete');\n",
              "    }\n",
              "    (() => {\n",
              "      let quickchartButtonEl =\n",
              "        document.querySelector('#df-b2e482ec-4ed4-4cf1-a7a1-b37ca9f2a7d4 button');\n",
              "      quickchartButtonEl.style.display =\n",
              "        google.colab.kernel.accessAllowed ? 'block' : 'none';\n",
              "    })();\n",
              "  </script>\n",
              "</div>\n",
              "\n",
              "  <div id=\"id_87554ef0-6b68-4f03-b4d4-fe886d27849e\">\n",
              "    <style>\n",
              "      .colab-df-generate {\n",
              "        background-color: #E8F0FE;\n",
              "        border: none;\n",
              "        border-radius: 50%;\n",
              "        cursor: pointer;\n",
              "        display: none;\n",
              "        fill: #1967D2;\n",
              "        height: 32px;\n",
              "        padding: 0 0 0 0;\n",
              "        width: 32px;\n",
              "      }\n",
              "\n",
              "      .colab-df-generate:hover {\n",
              "        background-color: #E2EBFA;\n",
              "        box-shadow: 0px 1px 2px rgba(60, 64, 67, 0.3), 0px 1px 3px 1px rgba(60, 64, 67, 0.15);\n",
              "        fill: #174EA6;\n",
              "      }\n",
              "\n",
              "      [theme=dark] .colab-df-generate {\n",
              "        background-color: #3B4455;\n",
              "        fill: #D2E3FC;\n",
              "      }\n",
              "\n",
              "      [theme=dark] .colab-df-generate:hover {\n",
              "        background-color: #434B5C;\n",
              "        box-shadow: 0px 1px 3px 1px rgba(0, 0, 0, 0.15);\n",
              "        filter: drop-shadow(0px 1px 2px rgba(0, 0, 0, 0.3));\n",
              "        fill: #FFFFFF;\n",
              "      }\n",
              "    </style>\n",
              "    <button class=\"colab-df-generate\" onclick=\"generateWithVariable('test')\"\n",
              "            title=\"Generate code using this dataframe.\"\n",
              "            style=\"display:none;\">\n",
              "\n",
              "  <svg xmlns=\"http://www.w3.org/2000/svg\" height=\"24px\"viewBox=\"0 0 24 24\"\n",
              "       width=\"24px\">\n",
              "    <path d=\"M7,19H8.4L18.45,9,17,7.55,7,17.6ZM5,21V16.75L18.45,3.32a2,2,0,0,1,2.83,0l1.4,1.43a1.91,1.91,0,0,1,.58,1.4,1.91,1.91,0,0,1-.58,1.4L9.25,21ZM18.45,9,17,7.55Zm-12,3A5.31,5.31,0,0,0,4.9,8.1,5.31,5.31,0,0,0,1,6.5,5.31,5.31,0,0,0,4.9,4.9,5.31,5.31,0,0,0,6.5,1,5.31,5.31,0,0,0,8.1,4.9,5.31,5.31,0,0,0,12,6.5,5.46,5.46,0,0,0,6.5,12Z\"/>\n",
              "  </svg>\n",
              "    </button>\n",
              "    <script>\n",
              "      (() => {\n",
              "      const buttonEl =\n",
              "        document.querySelector('#id_87554ef0-6b68-4f03-b4d4-fe886d27849e button.colab-df-generate');\n",
              "      buttonEl.style.display =\n",
              "        google.colab.kernel.accessAllowed ? 'block' : 'none';\n",
              "\n",
              "      buttonEl.onclick = () => {\n",
              "        google.colab.notebook.generateWithVariable('test');\n",
              "      }\n",
              "      })();\n",
              "    </script>\n",
              "  </div>\n",
              "\n",
              "    </div>\n",
              "  </div>\n"
            ],
            "application/vnd.google.colaboratory.intrinsic+json": {
              "type": "dataframe",
              "variable_name": "test",
              "summary": "{\n  \"name\": \"test\",\n  \"rows\": 393,\n  \"fields\": [\n    {\n      \"column\": \"Gender\",\n      \"properties\": {\n        \"dtype\": \"category\",\n        \"num_unique_values\": 2,\n        \"samples\": [\n          \"Male\",\n          \"Female\"\n        ],\n        \"semantic_type\": \"\",\n        \"description\": \"\"\n      }\n    },\n    {\n      \"column\": \"Age\",\n      \"properties\": {\n        \"dtype\": \"number\",\n        \"std\": 27,\n        \"min\": 0,\n        \"max\": 99,\n        \"num_unique_values\": 94,\n        \"samples\": [\n          10,\n          66\n        ],\n        \"semantic_type\": \"\",\n        \"description\": \"\"\n      }\n    },\n    {\n      \"column\": \"Annual Income\",\n      \"properties\": {\n        \"dtype\": \"number\",\n        \"std\": 46853,\n        \"min\": 0,\n        \"max\": 189689,\n        \"num_unique_values\": 376,\n        \"samples\": [\n          178576,\n          74607\n        ],\n        \"semantic_type\": \"\",\n        \"description\": \"\"\n      }\n    },\n    {\n      \"column\": \"Profession\",\n      \"properties\": {\n        \"dtype\": \"category\",\n        \"num_unique_values\": 9,\n        \"samples\": [\n          \"Executive\",\n          \"Doctor\"\n        ],\n        \"semantic_type\": \"\",\n        \"description\": \"\"\n      }\n    },\n    {\n      \"column\": \"Work Experience\",\n      \"properties\": {\n        \"dtype\": \"number\",\n        \"std\": 3,\n        \"min\": 0,\n        \"max\": 17,\n        \"num_unique_values\": 18,\n        \"samples\": [\n          1,\n          4\n        ],\n        \"semantic_type\": \"\",\n        \"description\": \"\"\n      }\n    },\n    {\n      \"column\": \"Family Size\",\n      \"properties\": {\n        \"dtype\": \"number\",\n        \"std\": 1,\n        \"min\": 1,\n        \"max\": 9,\n        \"num_unique_values\": 9,\n        \"samples\": [\n          8,\n          4\n        ],\n        \"semantic_type\": \"\",\n        \"description\": \"\"\n      }\n    },\n    {\n      \"column\": \"Spending Score\",\n      \"properties\": {\n        \"dtype\": \"number\",\n        \"std\": 27,\n        \"min\": 1,\n        \"max\": 100,\n        \"num_unique_values\": 98,\n        \"samples\": [\n          91,\n          14\n        ],\n        \"semantic_type\": \"\",\n        \"description\": \"\"\n      }\n    },\n    {\n      \"column\": \"Spending Category\",\n      \"properties\": {\n        \"dtype\": \"category\",\n        \"num_unique_values\": 2,\n        \"samples\": [\n          \"Low\",\n          \"High\"\n        ],\n        \"semantic_type\": \"\",\n        \"description\": \"\"\n      }\n    }\n  ]\n}"
            }
          },
          "metadata": {},
          "execution_count": 9
        }
      ],
      "source": [
        "#Load the test_data.csv file in python, and assign it to a variable named \"test\".\n",
        "##### YOUR CODE STARTS HERE #####\n",
        "test = pd.read_csv(\"test_data.csv\")\n",
        "##### YOUR CODE ENDS HERE #####\n",
        "test"
      ]
    },
    {
      "cell_type": "markdown",
      "source": [
        "### Categorical Data: One Hot Encoding\n",
        "\n",
        "Categorical data is a type of data that can be divided into groups or categories. Unlike numerical data, categorical data represents qualitative characteristics.\n",
        "\n",
        "**Examples of categorical variables:**\n",
        "\n",
        "- Gender\n",
        "- Profession\n",
        "- City\n",
        "\n",
        "When working with categorical data in machine learning, it's important to convert these categories into a numerical format that algorithms can understand. Most machine learning models require numerical input, so categorical data must be encoded. Encoding allows the model to process and learn from the data effectively, as algorithms typically work on numerical vectors, not strings or labels.\n",
        "\n",
        "One common method for encoding categorical data is **one-hot encoding**, where each category is represented as a binary vector. The `pd.get_dummies` function in pandas is a straightforward and popular way to achieve this in Python. It transforms categorical columns into a new set of columns, each representing one possible category, with a `1` or `0` indicating the presence or absence of that category.\n",
        "\n",
        "For example, given a column with categories `[\"red\", \"blue\", \"green\"]`, `pd.get_dummies` would create three new columns: `red`, `blue`, and `green`, with binary values indicating which color is present in each row. This ensures the categorical data is in a format suitable for machine learning algorithms."
      ],
      "metadata": {
        "id": "tD-zQ06IlPSa"
      }
    },
    {
      "cell_type": "code",
      "source": [
        "# For more info about pd.get_dummies\n",
        "# https://pandas.pydata.org/pandas-docs/stable/reference/api/pandas.get_dummies.html\n",
        "\n",
        "##### YOUR CODE STARTS HERE #####\n",
        "\n",
        "# The categorical columns we want to encode\n",
        "categorical_columns = ['Gender', 'Profession']\n",
        "\n",
        "# Use pd.get_dummies() only on the specified columns\n",
        "encoded_columns = pd.get_dummies(train[categorical_columns])\n",
        "\n",
        "# Concatenate the encoded columns with the original DataFrame (train)\n",
        "train = pd.concat([train, encoded_columns], axis=1)\n",
        "\n",
        "# Drop the original categorical columns\n",
        "train = train.drop(columns=categorical_columns)\n",
        "\n",
        "##### YOUR CODE ENDS HERE #####"
      ],
      "metadata": {
        "id": "GNYz6JNvlPGM"
      },
      "execution_count": 12,
      "outputs": []
    },
    {
      "cell_type": "code",
      "source": [
        "##### YOUR CODE STARTS HERE #####\n",
        "\n",
        "# The categorical columns we want to encode\n",
        "categorical_columns = ['Gender', 'Profession']\n",
        "\n",
        "# Use pd.get_dummies() only on the specified columns\n",
        "encoded_columns = pd.get_dummies(test[categorical_columns])\n",
        "\n",
        "# Concatenate the encoded columns with the original DataFrame (test)\n",
        "test = pd.concat([test, encoded_columns], axis=1)\n",
        "\n",
        "# Drop the original categorical columns\n",
        "test = test.drop(columns=categorical_columns)\n",
        "\n",
        "##### YOUR CODE ENDS HERE #####"
      ],
      "metadata": {
        "id": "W75sZh4dll8Z"
      },
      "execution_count": 10,
      "outputs": []
    },
    {
      "cell_type": "markdown",
      "metadata": {
        "id": "_7e70o39x6h4"
      },
      "source": [
        "### Linear Regression\n",
        "\n",
        "In this section, you will train a linear regression model to predict the spending score of the customers in the shop. You should use the “Spending Score” column as the target variable and all the remaining columns as the independent variables (i.e., features).\n",
        "\n",
        "*Note: Make sure to exclude the “Spending Category” column in this section of the assignment, given that it is derived from the “Spending Score” column (i.e., to avoid data leakage).*\n",
        "\n"
      ]
    },
    {
      "cell_type": "markdown",
      "metadata": {
        "id": "OSI8hHVD1nNr"
      },
      "source": [
        "Dropping the \"Spending Category\" column from the training and testing data."
      ]
    },
    {
      "cell_type": "code",
      "execution_count": 11,
      "metadata": {
        "id": "OKIyS0nl1mI6"
      },
      "outputs": [],
      "source": [
        "#Drop Spending Category column\n",
        "train_reg = train.drop(columns=\"Spending Category\")\n",
        "test_reg = test.drop(columns=\"Spending Category\")"
      ]
    },
    {
      "cell_type": "code",
      "source": [
        "##### YOUR CODE STARTS HERE #####\n",
        "\n",
        "# Prepare the training data (use train_reg set)\n",
        "# Create the feature matrix X_train\n",
        "# Exclude the target variable 'Spending Score'\n",
        "X_train = train_reg.drop(columns=\"Spending Score\")\n",
        "\n",
        "# Extract the target variable y_train (use train_reg set)\n",
        "# Assign the 'Spending Score' column to y_train\n",
        "y_train = train_reg[\"Spending Score\"]\n",
        "\n",
        "# Prepare the testing data (use test_reg set)\n",
        "# Create the feature matrix X_test\n",
        "# Exclude the target variable 'Spending Score'\n",
        "X_test = test_reg.drop(columns=\"Spending Score\")\n",
        "\n",
        "# Extract the target variable y_test (use test_reg set)\n",
        "# Assign the 'Spending Score' column to y_test\n",
        "y_test = test_reg[\"Spending Score\"]\n",
        "\n",
        "\n",
        "##### YOUR CODE ENDS HERE #####"
      ],
      "metadata": {
        "id": "KC0JogsodgtM"
      },
      "execution_count": 13,
      "outputs": []
    },
    {
      "cell_type": "markdown",
      "metadata": {
        "id": "6QoVhE8l28rT"
      },
      "source": [
        "- Train a linear regression model to predict the spending score of a customer\n",
        "- You should use default values for all parameters"
      ]
    },
    {
      "cell_type": "code",
      "execution_count": 17,
      "metadata": {
        "id": "hFNyG1NPyFCE"
      },
      "outputs": [],
      "source": [
        "# for more info about the model\n",
        "# refer https://scikit-learn.org/stable/modules/generated/sklearn.linear_model.LinearRegression.html\n",
        "\n",
        "##### YOUR CODE STARTS HERE #####\n",
        "\n",
        "# Create an instance of the LinearRegression class\n",
        "linear_reg_model = LinearRegression()\n",
        "X_train = pd.get_dummies(X_train)\n",
        "X_test = pd.get_dummies(X_test)\n",
        "\n",
        "# Fit the linear regression model to the training data\n",
        "linear_reg_model.fit(X_train, y_train)\n",
        "\n",
        "# Use the trained linear regression model to make predictions on the test data\n",
        "predictions = linear_reg_model.predict(X_test)\n",
        "\n",
        "##### YOUR CODE ENDS HERE #####"
      ]
    },
    {
      "cell_type": "code",
      "execution_count": 21,
      "metadata": {
        "id": "4Hg-rV-ryGv2",
        "colab": {
          "base_uri": "https://localhost:8080/"
        },
        "outputId": "44ea5cb2-2593-42cf-9698-b0dc8e1bbfeb"
      },
      "outputs": [
        {
          "output_type": "stream",
          "name": "stdout",
          "text": [
            "780.7824887124046\n"
          ]
        }
      ],
      "source": [
        "##### YOUR CODE STARTS HERE #####\n",
        "\n",
        "#Compute the MSE metric to evaluate the trained model using the test data\n",
        "mse = mean_squared_error(y_test, predictions)\n",
        "\n",
        "##### YOUR CODE ENDS HERE #####\n",
        "print(mse)\n"
      ]
    },
    {
      "cell_type": "markdown",
      "metadata": {
        "id": "ZmFM96YyydrM"
      },
      "source": [
        "### Logistic Regression\n",
        "\n",
        "In this section, you will train a logistic regression model to predict the spending category of a customer in the shop, as either High or Low.  The target variable will be the `Spending Category` column, and all the remaining columns will be the independent variables.\n",
        "\n",
        "*Note: Don’t use the `Spending Score` column in this section of the assignment, given that `Spending Category` column is derived from it.*\n",
        "\n"
      ]
    },
    {
      "cell_type": "markdown",
      "source": [
        "Dropping the `Spending Score` column from the training and testing data."
      ],
      "metadata": {
        "id": "_swaq50hjYfx"
      }
    },
    {
      "cell_type": "code",
      "source": [
        "#Drop Spending Category column\n",
        "train_log_reg = train.drop(columns=\"Spending Score\")\n",
        "test_log_reg = test.drop(columns=\"Spending Score\")"
      ],
      "metadata": {
        "id": "R4kxjPD1jBzt"
      },
      "execution_count": 22,
      "outputs": []
    },
    {
      "cell_type": "code",
      "source": [
        "##### YOUR CODE STARTS HERE #####\n",
        "\n",
        "# Prepare the training data (use train_log_reg set)\n",
        "# Create the feature matrix X_train\n",
        "# Exclude the target variable 'Spending Category'\n",
        "X_train = train_log_reg.drop(columns=\"Spending Category\")\n",
        "\n",
        "# Extract the target variable y_train (use train_log_reg set)\n",
        "# Assign the 'Spending Category' column to y_train\n",
        "y_train = train_log_reg[\"Spending Category\"]\n",
        "\n",
        "# Prepare the testing data (use test_log_reg set)\n",
        "# Create the feature matrix X_test\n",
        "# Exclude the target variable 'Spending Category'\n",
        "X_test = test_log_reg.drop(columns=\"Spending Category\")\n",
        "\n",
        "# Extract the target variable y_test (use test_log_reg set)\n",
        "# Assign the 'Spending Category' column to y_test\n",
        "y_test = test_log_reg[\"Spending Category\"]\n",
        "\n",
        "##### YOUR CODE ENDS HERE #####"
      ],
      "metadata": {
        "id": "Enp-izhHjeXR"
      },
      "execution_count": 23,
      "outputs": []
    },
    {
      "cell_type": "code",
      "execution_count": 25,
      "metadata": {
        "id": "KHCsqOR1ydrN"
      },
      "outputs": [],
      "source": [
        "# for more info about the model\n",
        "# refer https://scikit-learn.org/stable/modules/generated/sklearn.linear_model.LogisticRegression.html\n",
        "##### YOUR CODE STARTS HERE #####\n",
        "\n",
        "# Create an instance of the Logistic regression class\n",
        "logistic_reg_model = LogisticRegression()\n",
        "\n",
        "# Fit the logistic regression model to the training data\n",
        "logistic_reg_model.fit(X_train, y_train)\n",
        "\n",
        "\n",
        "# Use the trained logistic regression model to make predictions on the test data\n",
        "predictions = logistic_reg_model.predict(X_test)\n",
        "##### YOUR CODE ENDS HERE #####"
      ]
    },
    {
      "cell_type": "code",
      "execution_count": 28,
      "metadata": {
        "id": "_O8xmXhvydrN",
        "colab": {
          "base_uri": "https://localhost:8080/"
        },
        "outputId": "3d4f5ee1-5884-4004-f67a-bb0ec3569929"
      },
      "outputs": [
        {
          "output_type": "stream",
          "name": "stdout",
          "text": [
            "0.455470737913486\n"
          ]
        }
      ],
      "source": [
        "# for more info about the accuracy score\n",
        "# refer https://scikit-learn.org/stable/modules/generated/sklearn.metrics.accuracy_score.html\n",
        "\n",
        "##### YOUR CODE STARTS HERE #####\n",
        "\n",
        "#Compute the Accuracy metric to evaluate trained model on the test data\n",
        "acc_metric = accuracy_score(y_test, predictions)\n",
        "\n",
        "##### YOUR CODE ENDS HERE #####\n",
        "print(acc_metric)"
      ]
    },
    {
      "cell_type": "markdown",
      "source": [
        "### Analysis\n",
        "\n",
        "\n",
        "1. **Analyze Your Results**: Review the accuracy you achieved in your work.\n",
        "2. **Comment on the Results**: Provide insightful commentary on the results you obtained.\n",
        "3. **Explain Your Findings**: Offer a thorough explanation of why you think the results turned out as they did. Discuss any factors that may have influenced the accuracy."
      ],
      "metadata": {
        "id": "bn24UbY5ldM1"
      }
    },
    {
      "cell_type": "markdown",
      "source": [
        "`Write your answer here`"
      ],
      "metadata": {
        "id": "V-CG-F0HlfT8"
      }
    },
    {
      "cell_type": "markdown",
      "source": [
        "Additional Instructions for Students:\n",
        " 1. Make sure to understand each step of the process. If you're unsure about a particular function or concept, refer to the documentation links provided in the comments.\n",
        "\n",
        "\n",
        " 2. Remember: The goal is not just to achieve high accuracy, but to understand the process and the implications of each decision you make along the way. Good luck!"
      ],
      "metadata": {
        "id": "-o9VMKHPj_WW"
      }
    }
  ],
  "metadata": {
    "colab": {
      "provenance": [],
      "include_colab_link": true
    },
    "kernelspec": {
      "display_name": "Python 3 (ipykernel)",
      "language": "python",
      "name": "python3"
    },
    "language_info": {
      "codemirror_mode": {
        "name": "ipython",
        "version": 3
      },
      "file_extension": ".py",
      "mimetype": "text/x-python",
      "name": "python",
      "nbconvert_exporter": "python",
      "pygments_lexer": "ipython3",
      "version": "3.12.0"
    }
  },
  "nbformat": 4,
  "nbformat_minor": 0
}